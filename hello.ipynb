{
 "cells": [
  {
   "cell_type": "code",
   "execution_count": 15,
   "metadata": {},
   "outputs": [
    {
     "data": {
      "text/plain": [
       "True"
      ]
     },
     "execution_count": 15,
     "metadata": {},
     "output_type": "execute_result"
    }
   ],
   "source": [
    "from newspaper import Article\n",
    "from dotenv import load_dotenv\n",
    "\n",
    "from langchain.prompts import PromptTemplate\n",
    "from langchain.llms import OpenAI\n",
    "from langchain.chains import LLMChain\n",
    "\n",
    "load_dotenv()"
   ]
  },
  {
   "cell_type": "code",
   "execution_count": 16,
   "metadata": {},
   "outputs": [],
   "source": [
    "page = Article(\"https://help.instagram.com/155833707900388\")\n",
    "page.download()\n",
    "page.parse()"
   ]
  },
  {
   "cell_type": "code",
   "execution_count": 34,
   "metadata": {},
   "outputs": [],
   "source": [
    "\n",
    "llm = OpenAI(temperature=0)\n",
    "prompt = PromptTemplate(\n",
    "    input_variables=[\"privacy_policy\"],\n",
    "    template=\"\"\"\n",
    "Below is the privacy policy for a website. Answer all questions about the policy.\n",
    "Explain why your answer is correct.\n",
    "\n",
    "1. What personal information does this website collect?\n",
    "\n",
    "2. What do they do with my personal information?\n",
    "\n",
    "3. Do they sell my personal information and to whom?\n",
    "\n",
    "4. Do they use my personal information as part of an advertisement network?\n",
    "\n",
    "PRIVACY POLICY:\n",
    "\n",
    "{privacy_policy}\n",
    "\n",
    "     \"\"\",\n",
    ")\n",
    "\n",
    "chain = LLMChain(llm=llm, prompt=prompt)"
   ]
  },
  {
   "cell_type": "code",
   "execution_count": 35,
   "metadata": {},
   "outputs": [
    {
     "name": "stdout",
     "output_type": "stream",
     "text": [
      "\n",
      "\n",
      "1. What personal information does this website collect?\n",
      "\n",
      "This website collects information such as your name, email address, profile photo, Instagram username, bio, public profile information on Facebook, content you share on a Facebook Page, public Instagram account or any other public forum, such as Facebook Marketplace, and information about your active status or presence on the website. \n",
      "\n",
      "2. What do they do with my personal information?\n",
      "\n",
      "The website uses the personal information they collect to provide and support the Meta Products and related services described in the Meta Terms and Instagram Terms. This includes providing analytics and measurement reports to partners, providing advertisers with reports about the kinds of people seeing their ads and how their ads are performing, confirming which ads led you to make a purchase or take an action with an advertiser, and providing vendors and service providers with information and content to support their business. \n",
      "\n",
      "3. Do they sell my personal information and to whom?\n",
      "\n",
      "No, they do not sell any of your information to anyone. \n",
      "\n",
      "4. Do they use my personal information as part of an advertisement network?\n",
      "\n",
      "Yes, they use your personal information as part of an advertisement network. They provide advertisers with reports about the kinds of people seeing their ads\n"
     ]
    }
   ],
   "source": [
    "result = chain.run(page.text)\n",
    "print(result)"
   ]
  },
  {
   "cell_type": "code",
   "execution_count": 28,
   "metadata": {},
   "outputs": [
    {
     "data": {
      "text/plain": [
       "1418"
      ]
     },
     "execution_count": 28,
     "metadata": {},
     "output_type": "execute_result"
    }
   ],
   "source": [
    "len(result)"
   ]
  },
  {
   "cell_type": "markdown",
   "metadata": {},
   "source": []
  }
 ],
 "metadata": {
  "kernelspec": {
   "display_name": "env",
   "language": "python",
   "name": "python3"
  },
  "language_info": {
   "codemirror_mode": {
    "name": "ipython",
    "version": 3
   },
   "file_extension": ".py",
   "mimetype": "text/x-python",
   "name": "python",
   "nbconvert_exporter": "python",
   "pygments_lexer": "ipython3",
   "version": "3.9.15"
  },
  "orig_nbformat": 4
 },
 "nbformat": 4,
 "nbformat_minor": 2
}
