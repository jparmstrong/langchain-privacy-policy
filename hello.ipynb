{
 "cells": [
  {
   "cell_type": "code",
   "execution_count": 1,
   "metadata": {},
   "outputs": [
    {
     "data": {
      "text/plain": [
       "True"
      ]
     },
     "execution_count": 1,
     "metadata": {},
     "output_type": "execute_result"
    }
   ],
   "source": [
    "from newspaper import Article\n",
    "from dotenv import load_dotenv\n",
    "\n",
    "from langchain.prompts import PromptTemplate\n",
    "from langchain.llms import OpenAI\n",
    "\n",
    "load_dotenv()"
   ]
  },
  {
   "cell_type": "code",
   "execution_count": 4,
   "metadata": {},
   "outputs": [],
   "source": [
    "page = Article(\"https://help.instagram.com/155833707900388\")\n",
    "page.download()\n",
    "page.parse()"
   ]
  },
  {
   "cell_type": "code",
   "execution_count": 6,
   "metadata": {},
   "outputs": [],
   "source": [
    "\n",
    "llm = OpenAI(temperature=0)\n",
    "prompt = PromptTemplate(\n",
    "    input_variables=[\"privacy_policy\"],\n",
    "    template=\"\"\"Below is the privacy policy for a website. Answer the following questions with a yes or no answer about the policy. Include the question in the response. Quote excerpts to support your conclusion.\n",
    "\n",
    "1. What personal information do they collect?\n",
    "\n",
    "2. What do they do with my personal information?\n",
    "\n",
    "3. Do they sell my personal information and to whom?\n",
    "\n",
    "PRIVACY POLICY:\n",
    "\n",
    "{privacy_policy}\n",
    "\n",
    "     \"\"\",\n",
    ")\n",
    "\n",
    "from langchain.chains import LLMChain\n",
    "chain = LLMChain(llm=llm, prompt=prompt)"
   ]
  },
  {
   "cell_type": "code",
   "execution_count": 8,
   "metadata": {},
   "outputs": [
    {
     "name": "stdout",
     "output_type": "stream",
     "text": [
      "\n",
      "\n",
      "Question: What personal information do they collect?\n",
      "Yes, they collect personal information. Excerpt: \"To provide the Meta Products, we must process information about you. The types of information we collect depend on how you use our Products.\" \n",
      "\n",
      "Question: What do they do with my personal information?\n",
      "Yes, they use personal information. Excerpt: \"We use the information we have (subject to choices you make) as described below and to provide and support the Meta Products and related services described in the Meta Terms and Instagram Terms.\" \n",
      "\n",
      "Question: Do they sell my personal information and to whom?\n",
      "No, they do not sell personal information. Excerpt: \"We don't sell any of your information to anyone, and we never will. We also impose strict restrictions on how our partners can use and disclose the data we provide.\"\n"
     ]
    }
   ],
   "source": [
    "print(chain.run(page.text))"
   ]
  },
  {
   "cell_type": "markdown",
   "metadata": {},
   "source": []
  }
 ],
 "metadata": {
  "kernelspec": {
   "display_name": "env",
   "language": "python",
   "name": "python3"
  },
  "language_info": {
   "codemirror_mode": {
    "name": "ipython",
    "version": 3
   },
   "file_extension": ".py",
   "mimetype": "text/x-python",
   "name": "python",
   "nbconvert_exporter": "python",
   "pygments_lexer": "ipython3",
   "version": "3.9.15"
  },
  "orig_nbformat": 4
 },
 "nbformat": 4,
 "nbformat_minor": 2
}
